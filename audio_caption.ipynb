{
  "cells": [
    {
      "cell_type": "code",
      "execution_count": null,
      "metadata": {
        "colab": {
          "base_uri": "https://localhost:8080/"
        },
        "id": "co1HqrkMgyYv",
        "outputId": "92d3b030-1847-477e-b792-52271081feee"
      },
      "outputs": [
        {
          "output_type": "stream",
          "name": "stdout",
          "text": [
            "Requirement already satisfied: gensim in /usr/local/lib/python3.12/dist-packages (4.3.3)\n",
            "Requirement already satisfied: numpy<2.0,>=1.18.5 in /usr/local/lib/python3.12/dist-packages (from gensim) (1.26.4)\n",
            "Requirement already satisfied: scipy<1.14.0,>=1.7.0 in /usr/local/lib/python3.12/dist-packages (from gensim) (1.13.1)\n",
            "Requirement already satisfied: smart-open>=1.8.1 in /usr/local/lib/python3.12/dist-packages (from gensim) (7.3.0.post1)\n",
            "Requirement already satisfied: wrapt in /usr/local/lib/python3.12/dist-packages (from smart-open>=1.8.1->gensim) (1.17.3)\n",
            "0.11.0\n"
          ]
        }
      ],
      "source": [
        "import tensorflow as tf\n",
        "import pandas as pd\n",
        "import os, librosa\n",
        "import numpy as np\n",
        "import matplotlib.pyplot as plt\n",
        "from tensorflow import keras\n",
        "from tensorflow.keras import models, layers\n",
        "from tensorflow.keras.preprocessing.text import Tokenizer\n",
        "import librosa\n",
        "import pandas as pd\n",
        "from tensorflow.keras.preprocessing.sequence import pad_sequences\n",
        "!pip install gensim\n",
        "import gensim.downloader as api\n",
        "\n",
        "print(librosa.__version__)"
      ]
    },
    {
      "cell_type": "code",
      "execution_count": null,
      "metadata": {
        "id": "0LHfqeUYhpW3"
      },
      "outputs": [],
      "source": [
        "def load_audio_for_yamnet(path, max_duration=20):\n",
        "    SAMPLE_RATE = 16000  # cuz YAMNet\n",
        "    audio, sr = librosa.load(path, sr=SAMPLE_RATE, mono=True)\n",
        "\n",
        "    max_samples = SAMPLE_RATE * max_duration\n",
        "    if len(audio) > max_samples:\n",
        "        audio = audio[:max_samples]\n",
        "    else:\n",
        "        audio = np.pad(audio, (0, max_samples - len(audio)), mode=\"constant\")\n",
        "\n",
        "    if np.max(np.abs(audio)) > 0:\n",
        "        audio = audio / np.max(np.abs(audio))\n",
        "\n",
        "    audio_tensor = tf.constant(audio, dtype=tf.float32)\n",
        "    return audio_tensor"
      ]
    },
    {
      "cell_type": "code",
      "execution_count": null,
      "metadata": {
        "colab": {
          "base_uri": "https://localhost:8080/",
          "height": 428
        },
        "id": "dgBuvtCOndgs",
        "outputId": "e015c6a3-b7c8-4ae2-913e-cd76505a4983"
      },
      "outputs": [
        {
          "output_type": "display_data",
          "data": {
            "text/plain": [
              "<Figure size 1000x400 with 1 Axes>"
            ],
            "image/png": "[encoded data removed]"
          },
          "metadata": {}
        },
        {
          "output_type": "execute_result",
          "data": {
            "text/plain": [
              "TensorShape([320000])"
            ]
          },
          "metadata": {},
          "execution_count": 64
        }
      ],
      "source": [
        "plt.figure(figsize=(10, 4))\n",
        "plt.plot(load_audio_for_yamnet(path='/content/drive/MyDrive/clothov21/audio/0605door.wav', max_duration=20))\n",
        "plt.title('Audio Waveform for YAMNet')\n",
        "plt.xlabel('Sample')\n",
        "plt.ylabel('Amplitude')\n",
        "plt.show()\n",
        "\n",
        "load_audio_for_yamnet(path='/content/drive/MyDrive/clothov21/audio/0605door.wav', max_duration=20).shape"
      ]
    },
    {
      "cell_type": "code",
      "execution_count": null,
      "metadata": {
        "colab": {
          "base_uri": "https://localhost:8080/",
          "height": 545
        },
        "id": "YzxBoAbojYF0",
        "outputId": "a8cce7e0-c36b-4aee-ac0c-955065fbfd22"
      },
      "outputs": [
        {
          "output_type": "execute_result",
          "data": {
            "text/plain": [
              "                                               file_name  \\\n",
              "0                                        Santa Motor.wav   \n",
              "1                                       Radio Garble.wav   \n",
              "2           Radio Fuzz for Old Radio Broadcast FF233.wav   \n",
              "3                                       toy rattle 2.wav   \n",
              "4                                          Blade Big.wav   \n",
              "...                                                  ...   \n",
              "15747                  Crickets calling at night, UK.wav   \n",
              "15748             Rain On Town Square, South Germany.wav   \n",
              "15749                                      amazon 04.wav   \n",
              "15750  steps come and go on stone ground in a village...   \n",
              "15751                     Heavy rain - some people 2.wav   \n",
              "\n",
              "                                              caption_in  \\\n",
              "0      <sos> A machine whines and squeals while rhyth...   \n",
              "1      <sos> A radio dispatcher and an officer are co...   \n",
              "2      <sos> A radio tuner has been positioned in bet...   \n",
              "3      <sos> A person winding up a device and then ji...   \n",
              "4      <sos> A person is pulling silverware out of th...   \n",
              "...                                                  ...   \n",
              "15747  <sos> Crickets chirp in the background as a so...   \n",
              "15748  <sos> Two people are outside talking while it ...   \n",
              "15749      <sos> An engine runs as birds chirp and sing.   \n",
              "15750  <sos> Someone walks across a hard surface as b...   \n",
              "15751  <sos> Rain is falling as people talk in the ba...   \n",
              "\n",
              "                                             caption_out  \n",
              "0      A machine whines and squeals while rhythmicall...  \n",
              "1      A radio dispatcher and an officer are communic...  \n",
              "2      A radio tuner has been positioned in between r...  \n",
              "3      A person winding up a device and then jingling...  \n",
              "4      A person is pulling silverware out of the dish...  \n",
              "...                                                  ...  \n",
              "15747  Crickets chirp in the background as a soft win...  \n",
              "15748  Two people are outside talking while it is rai...  \n",
              "15749      An engine runs as birds chirp and sing. <eos>  \n",
              "15750  Someone walks across a hard surface as birds c...  \n",
              "15751  Rain is falling as people talk in the backgrou...  \n",
              "\n",
              "[15752 rows x 3 columns]"
            ],
            "text/html": [
              "\n",
              "  <div id=\"df-de351488-f790-406b-813e-21ec743f6183\" class=\"colab-df-container\">\n",
              "    <div>\n",
              "<style scoped>\n",
              "    .dataframe tbody tr th:only-of-type {\n",
              "        vertical-align: middle;\n",
              "    }\n",
              "\n",
              "    .dataframe tbody tr th {\n",
              "        vertical-align: top;\n",
              "    }\n",
              "\n",
              "    .dataframe thead th {\n",
              "        text-align: right;\n",
              "    }\n",
              "</style>\n",
              "<table border=\"1\" class=\"dataframe\">\n",
              "  <thead>\n",
              "    <tr style=\"text-align: right;\">\n",
              "      <th></th>\n",
              "      <th>file_name</th>\n",
              "      <th>caption_in</th>\n",
              "      <th>caption_out</th>\n",
              "    </tr>\n",
              "  </thead>\n",
              "  <tbody>\n",
              "    <tr>\n",
              "      <th>0</th>\n",
              "      <td>Santa Motor.wav</td>\n",
              "      <td>&lt;sos&gt; A machine whines and squeals while rhyth...</td>\n",
              "      <td>A machine whines and squeals while rhythmicall...</td>\n",
              "    </tr>\n",
              "    <tr>\n",
              "      <th>1</th>\n",
              "      <td>Radio Garble.wav</td>\n",
              "      <td>&lt;sos&gt; A radio dispatcher and an officer are co...</td>\n",
              "      <td>A radio dispatcher and an officer are communic...</td>\n",
              "    </tr>\n",
              "    <tr>\n",
              "      <th>2</th>\n",
              "      <td>Radio Fuzz for Old Radio Broadcast FF233.wav</td>\n",
              "      <td>&lt;sos&gt; A radio tuner has been positioned in bet...</td>\n",
              "      <td>A radio tuner has been positioned in between r...</td>\n",
              "    </tr>\n",
              "    <tr>\n",
              "      <th>3</th>\n",
              "      <td>toy rattle 2.wav</td>\n",
              "      <td>&lt;sos&gt; A person winding up a device and then ji...</td>\n",
              "      <td>A person winding up a device and then jingling...</td>\n",
              "    </tr>\n",
              "    <tr>\n",
              "      <th>4</th>\n",
              "      <td>Blade Big.wav</td>\n",
              "      <td>&lt;sos&gt; A person is pulling silverware out of th...</td>\n",
              "      <td>A person is pulling silverware out of the dish...</td>\n",
              "    </tr>\n",
              "    <tr>\n",
              "      <th>...</th>\n",
              "      <td>...</td>\n",
              "      <td>...</td>\n",
              "      <td>...</td>\n",
              "    </tr>\n",
              "    <tr>\n",
              "      <th>15747</th>\n",
              "      <td>Crickets calling at night, UK.wav</td>\n",
              "      <td>&lt;sos&gt; Crickets chirp in the background as a so...</td>\n",
              "      <td>Crickets chirp in the background as a soft win...</td>\n",
              "    </tr>\n",
              "    <tr>\n",
              "      <th>15748</th>\n",
              "      <td>Rain On Town Square, South Germany.wav</td>\n",
              "      <td>&lt;sos&gt; Two people are outside talking while it ...</td>\n",
              "      <td>Two people are outside talking while it is rai...</td>\n",
              "    </tr>\n",
              "    <tr>\n",
              "      <th>15749</th>\n",
              "      <td>amazon 04.wav</td>\n",
              "      <td>&lt;sos&gt; An engine runs as birds chirp and sing.</td>\n",
              "      <td>An engine runs as birds chirp and sing. &lt;eos&gt;</td>\n",
              "    </tr>\n",
              "    <tr>\n",
              "      <th>15750</th>\n",
              "      <td>steps come and go on stone ground in a village...</td>\n",
              "      <td>&lt;sos&gt; Someone walks across a hard surface as b...</td>\n",
              "      <td>Someone walks across a hard surface as birds c...</td>\n",
              "    </tr>\n",
              "    <tr>\n",
              "      <th>15751</th>\n",
              "      <td>Heavy rain - some people 2.wav</td>\n",
              "      <td>&lt;sos&gt; Rain is falling as people talk in the ba...</td>\n",
              "      <td>Rain is falling as people talk in the backgrou...</td>\n",
              "    </tr>\n",
              "  </tbody>\n",
              "</table>\n",
              "<p>15752 rows × 3 columns</p>\n",
              "</div>\n",
              "    <div class=\"colab-df-buttons\">\n",
              "\n",
              "  <div class=\"colab-df-container\">\n",
              "    <button class=\"colab-df-convert\" onclick=\"convertToInteractive('df-de351488-f790-406b-813e-21ec743f6183')\"\n",
              "            title=\"Convert this dataframe to an interactive table.\"\n",
              "            style=\"display:none;\">\n",
              "\n",
              "  <svg xmlns=\"http://www.w3.org/2000/svg\" height=\"24px\" viewBox=\"0 -960 960 960\">\n",
              "    <path d=\"M120-120v-720h720v720H120Zm60-500h600v-160H180v160Zm220 220h160v-160H400v160Zm0 220h160v-160H400v160ZM180-400h160v-160H180v160Zm440 0h160v-160H620v160ZM180-180h160v-160H180v160Zm440 0h160v-160H620v160Z\"/>\n",
              "  </svg>\n",
              "    </button>\n",
              "\n",
              "  <style>\n",
              "    .colab-df-container {\n",
              "      display:flex;\n",
              "      gap: 12px;\n",
              "    }\n",
              "\n",
              "    .colab-df-convert {\n",
              "      background-color: #E8F0FE;\n",
              "      border: none;\n",
              "      border-radius: 50%;\n",
              "      cursor: pointer;\n",
              "      display: none;\n",
              "      fill: #1967D2;\n",
              "      height: 32px;\n",
              "      padding: 0 0 0 0;\n",
              "      width: 32px;\n",
              "    }\n",
              "\n",
              "    .colab-df-convert:hover {\n",
              "      background-color: #E2EBFA;\n",
              "      box-shadow: 0px 1px 2px rgba(60, 64, 67, 0.3), 0px 1px 3px 1px rgba(60, 64, 67, 0.15);\n",
              "      fill: #174EA6;\n",
              "    }\n",
              "\n",
              "    .colab-df-buttons div {\n",
              "      margin-bottom: 4px;\n",
              "    }\n",
              "\n",
              "    [theme=dark] .colab-df-convert {\n",
              "      background-color: #3B4455;\n",
              "      fill: #D2E3FC;\n",
              "    }\n",
              "\n",
              "    [theme=dark] .colab-df-convert:hover {\n",
              "      background-color: #434B5C;\n",
              "      box-shadow: 0px 1px 3px 1px rgba(0, 0, 0, 0.15);\n",
              "      filter: drop-shadow(0px 1px 2px rgba(0, 0, 0, 0.3));\n",
              "      fill: #FFFFFF;\n",
              "    }\n",
              "  </style>\n",
              "\n",
              "    <script>\n",
              "      const buttonEl =\n",
              "        document.querySelector('#df-de351488-f790-406b-813e-21ec743f6183 button.colab-df-convert');\n",
              "      buttonEl.style.display =\n",
              "        google.colab.kernel.accessAllowed ? 'block' : 'none';\n",
              "\n",
              "      async function convertToInteractive(key) {\n",
              "        const element = document.querySelector('#df-de351488-f790-406b-813e-21ec743f6183');\n",
              "        const dataTable =\n",
              "          await google.colab.kernel.invokeFunction('convertToInteractive',\n",
              "                                                    [key], {});\n",
              "        if (!dataTable) return;\n",
              "\n",
              "        const docLinkHtml = 'Like what you see? Visit the ' +\n",
              "          '<a target=\"_blank\" href=https://colab.research.google.com/notebooks/data_table.ipynb>data table notebook</a>'\n",
              "          + ' to learn more about interactive tables.';\n",
              "        element.innerHTML = '';\n",
              "        dataTable['output_type'] = 'display_data';\n",
              "        await google.colab.output.renderOutput(dataTable, element);\n",
              "        const docLink = document.createElement('div');\n",
              "        docLink.innerHTML = docLinkHtml;\n",
              "        element.appendChild(docLink);\n",
              "      }\n",
              "    </script>\n",
              "  </div>\n",
              "\n",
              "\n",
              "    <div id=\"df-56d1af0a-5106-4600-b978-b98b5dee0bff\">\n",
              "      <button class=\"colab-df-quickchart\" onclick=\"quickchart('df-56d1af0a-5106-4600-b978-b98b5dee0bff')\"\n",
              "                title=\"Suggest charts\"\n",
              "                style=\"display:none;\">\n",
              "\n",
              "<svg xmlns=\"http://www.w3.org/2000/svg\" height=\"24px\"viewBox=\"0 0 24 24\"\n",
              "     width=\"24px\">\n",
              "    <g>\n",
              "        <path d=\"M19 3H5c-1.1 0-2 .9-2 2v14c0 1.1.9 2 2 2h14c1.1 0 2-.9 2-2V5c0-1.1-.9-2-2-2zM9 17H7v-7h2v7zm4 0h-2V7h2v10zm4 0h-2v-4h2v4z\"/>\n",
              "    </g>\n",
              "</svg>\n",
              "      </button>\n",
              "\n",
              "<style>\n",
              "  .colab-df-quickchart {\n",
              "      --bg-color: #E8F0FE;\n",
              "      --fill-color: #1967D2;\n",
              "      --hover-bg-color: #E2EBFA;\n",
              "      --hover-fill-color: #174EA6;\n",
              "      --disabled-fill-color: #AAA;\n",
              "      --disabled-bg-color: #DDD;\n",
              "  }\n",
              "\n",
              "  [theme=dark] .colab-df-quickchart {\n",
              "      --bg-color: #3B4455;\n",
              "      --fill-color: #D2E3FC;\n",
              "      --hover-bg-color: #434B5C;\n",
              "      --hover-fill-color: #FFFFFF;\n",
              "      --disabled-bg-color: #3B4455;\n",
              "      --disabled-fill-color: #666;\n",
              "  }\n",
              "\n",
              "  .colab-df-quickchart {\n",
              "    background-color: var(--bg-color);\n",
              "    border: none;\n",
              "    border-radius: 50%;\n",
              "    cursor: pointer;\n",
              "    display: none;\n",
              "    fill: var(--fill-color);\n",
              "    height: 32px;\n",
              "    padding: 0;\n",
              "    width: 32px;\n",
              "  }\n",
              "\n",
              "  .colab-df-quickchart:hover {\n",
              "    background-color: var(--hover-bg-color);\n",
              "    box-shadow: 0 1px 2px rgba(60, 64, 67, 0.3), 0 1px 3px 1px rgba(60, 64, 67, 0.15);\n",
              "    fill: var(--button-hover-fill-color);\n",
              "  }\n",
              "\n",
              "  .colab-df-quickchart-complete:disabled,\n",
              "  .colab-df-quickchart-complete:disabled:hover {\n",
              "    background-color: var(--disabled-bg-color);\n",
              "    fill: var(--disabled-fill-color);\n",
              "    box-shadow: none;\n",
              "  }\n",
              "\n",
              "  .colab-df-spinner {\n",
              "    border: 2px solid var(--fill-color);\n",
              "    border-color: transparent;\n",
              "    border-bottom-color: var(--fill-color);\n",
              "    animation:\n",
              "      spin 1s steps(1) infinite;\n",
              "  }\n",
              "\n",
              "  @keyframes spin {\n",
              "    0% {\n",
              "      border-color: transparent;\n",
              "      border-bottom-color: var(--fill-color);\n",
              "      border-left-color: var(--fill-color);\n",
              "    }\n",
              "    20% {\n",
              "      border-color: transparent;\n",
              "      border-left-color: var(--fill-color);\n",
              "      border-top-color: var(--fill-color);\n",
              "    }\n",
              "    30% {\n",
              "      border-color: transparent;\n",
              "      border-left-color: var(--fill-color);\n",
              "      border-top-color: var(--fill-color);\n",
              "      border-right-color: var(--fill-color);\n",
              "    }\n",
              "    40% {\n",
              "      border-color: transparent;\n",
              "      border-right-color: var(--fill-color);\n",
              "      border-top-color: var(--fill-color);\n",
              "    }\n",
              "    60% {\n",
              "      border-color: transparent;\n",
              "      border-right-color: var(--fill-color);\n",
              "    }\n",
              "    80% {\n",
              "      border-color: transparent;\n",
              "      border-right-color: var(--fill-color);\n",
              "      border-bottom-color: var(--fill-color);\n",
              "    }\n",
              "    90% {\n",
              "      border-color: transparent;\n",
              "      border-bottom-color: var(--fill-color);\n",
              "    }\n",
              "  }\n",
              "</style>\n",
              "\n",
              "      <script>\n",
              "        async function quickchart(key) {\n",
              "          const quickchartButtonEl =\n",
              "            document.querySelector('#' + key + ' button');\n",
              "          quickchartButtonEl.disabled = true;  // To prevent multiple clicks.\n",
              "          quickchartButtonEl.classList.add('colab-df-spinner');\n",
              "          try {\n",
              "            const charts = await google.colab.kernel.invokeFunction(\n",
              "                'suggestCharts', [key], {});\n",
              "          } catch (error) {\n",
              "            console.error('Error during call to suggestCharts:', error);\n",
              "          }\n",
              "          quickchartButtonEl.classList.remove('colab-df-spinner');\n",
              "          quickchartButtonEl.classList.add('colab-df-quickchart-complete');\n",
              "        }\n",
              "        (() => {\n",
              "          let quickchartButtonEl =\n",
              "            document.querySelector('#df-56d1af0a-5106-4600-b978-b98b5dee0bff button');\n",
              "          quickchartButtonEl.style.display =\n",
              "            google.colab.kernel.accessAllowed ? 'block' : 'none';\n",
              "        })();\n",
              "      </script>\n",
              "    </div>\n",
              "\n",
              "  <div id=\"id_dd15b544-6f00-44a9-90f6-05282b80f09c\">\n",
              "    <style>\n",
              "      .colab-df-generate {\n",
              "        background-color: #E8F0FE;\n",
              "        border: none;\n",
              "        border-radius: 50%;\n",
              "        cursor: pointer;\n",
              "        display: none;\n",
              "        fill: #1967D2;\n",
              "        height: 32px;\n",
              "        padding: 0 0 0 0;\n",
              "        width: 32px;\n",
              "      }\n",
              "\n",
              "      .colab-df-generate:hover {\n",
              "        background-color: #E2EBFA;\n",
              "        box-shadow: 0px 1px 2px rgba(60, 64, 67, 0.3), 0px 1px 3px 1px rgba(60, 64, 67, 0.15);\n",
              "        fill: #174EA6;\n",
              "      }\n",
              "\n",
              "      [theme=dark] .colab-df-generate {\n",
              "        background-color: #3B4455;\n",
              "        fill: #D2E3FC;\n",
              "      }\n",
              "\n",
              "      [theme=dark] .colab-df-generate:hover {\n",
              "        background-color: #434B5C;\n",
              "        box-shadow: 0px 1px 3px 1px rgba(0, 0, 0, 0.15);\n",
              "        filter: drop-shadow(0px 1px 2px rgba(0, 0, 0, 0.3));\n",
              "        fill: #FFFFFF;\n",
              "      }\n",
              "    </style>\n",
              "    <button class=\"colab-df-generate\" onclick=\"generateWithVariable('df')\"\n",
              "            title=\"Generate code using this dataframe.\"\n",
              "            style=\"display:none;\">\n",
              "\n",
              "  <svg xmlns=\"http://www.w3.org/2000/svg\" height=\"24px\"viewBox=\"0 0 24 24\"\n",
              "       width=\"24px\">\n",
              "    <path d=\"M7,19H8.4L18.45,9,17,7.55,7,17.6ZM5,21V16.75L18.45,3.32a2,2,0,0,1,2.83,0l1.4,1.43a1.91,1.91,0,0,1,.58,1.4,1.91,1.91,0,0,1-.58,1.4L9.25,21ZM18.45,9,17,7.55Zm-12,3A5.31,5.31,0,0,0,4.9,8.1,5.31,5.31,0,0,0,1,6.5,5.31,5.31,0,0,0,4.9,4.9,5.31,5.31,0,0,0,6.5,1,5.31,5.31,0,0,0,8.1,4.9,5.31,5.31,0,0,0,12,6.5,5.46,5.46,0,0,0,6.5,12Z\"/>\n",
              "  </svg>\n",
              "    </button>\n",
              "    <script>\n",
              "      (() => {\n",
              "      const buttonEl =\n",
              "        document.querySelector('#id_dd15b544-6f00-44a9-90f6-05282b80f09c button.colab-df-generate');\n",
              "      buttonEl.style.display =\n",
              "        google.colab.kernel.accessAllowed ? 'block' : 'none';\n",
              "\n",
              "      buttonEl.onclick = () => {\n",
              "        google.colab.notebook.generateWithVariable('df');\n",
              "      }\n",
              "      })();\n",
              "    </script>\n",
              "  </div>\n",
              "\n",
              "    </div>\n",
              "  </div>\n"
            ],
            "application/vnd.google.colaboratory.intrinsic+json": {
              "type": "dataframe",
              "variable_name": "df",
              "summary": "{\n  \"name\": \"df\",\n  \"rows\": 15752,\n  \"fields\": [\n    {\n      \"column\": \"file_name\",\n      \"properties\": {\n        \"dtype\": \"category\",\n        \"num_unique_values\": 3938,\n        \"samples\": [\n          \"Krakow Busker-Ave Maria-056.wav\",\n          \"water_vipS.wav\",\n          \"marissa sound 2.wav\"\n        ],\n        \"semantic_type\": \"\",\n        \"description\": \"\"\n      }\n    },\n    {\n      \"column\": \"caption_in\",\n      \"properties\": {\n        \"dtype\": \"string\",\n        \"num_unique_values\": 15732,\n        \"samples\": [\n          \"<sos> Rain falling while people talk in the background.\",\n          \"<sos> Rushing water such a waterfall or fountain along with a bell ringing in the background.\",\n          \"<sos> Someone is cutting a tree branch and stops for a while before cutting it again\"\n        ],\n        \"semantic_type\": \"\",\n        \"description\": \"\"\n      }\n    },\n    {\n      \"column\": \"caption_out\",\n      \"properties\": {\n        \"dtype\": \"string\",\n        \"num_unique_values\": 15732,\n        \"samples\": [\n          \"Rain falling while people talk in the background. <eos>\",\n          \"Rushing water such a waterfall or fountain along with a bell ringing in the background. <eos>\",\n          \"Someone is cutting a tree branch and stops for a while before cutting it again <eos>\"\n        ],\n        \"semantic_type\": \"\",\n        \"description\": \"\"\n      }\n    }\n  ]\n}"
            }
          },
          "metadata": {},
          "execution_count": 65
        }
      ],
      "source": [
        "\n",
        "df_eval = pd.read_csv(\"/content/drive/MyDrive/clothov21/clotho_captions_evaluation.csv\")\n",
        "df_val = pd.read_csv(\"/content/drive/MyDrive/clothov21/clotho_captions_development.csv\")\n",
        "df = pd.concat([df_eval, df_val], ignore_index=True)\n",
        "\n",
        "df = df.melt(id_vars=[\"file_name\"],\n",
        "                  value_vars=[\"caption_1\",\"caption_2\",\"caption_3\",\"caption_4\"],\n",
        "                  var_name=\"caption_id\", value_name=\"caption_text\")\n",
        "\n",
        "df[\"caption_in\"] = df[\"caption_text\"].apply(lambda x: \"<sos> \" + x)\n",
        "df[\"caption_out\"] = df[\"caption_text\"].apply(lambda x: x + \" <eos>\")\n",
        "df = df.drop(columns=[\"caption_id\", \"caption_text\"])\n",
        "\n",
        "df"
      ]
    },
    {
      "cell_type": "code",
      "execution_count": null,
      "metadata": {
        "colab": {
          "base_uri": "https://localhost:8080/"
        },
        "id": "X7E4ylm2vjHc",
        "outputId": "1a4c1fc4-230e-4ab5-bfee-69cdf8c6140a"
      },
      "outputs": [
        {
          "output_type": "stream",
          "name": "stdout",
          "text": [
            "4278\n",
            "✅ Saved:\n",
            "  - tokenizer.pkl\n",
            "  - word_mappings.pkl\n",
            "  - model_metadata.pkl\n",
            "  - Vocab size: 4278\n"
          ]
        }
      ],
      "source": [
        "import pickle\n",
        "\n",
        "tokenizer = Tokenizer(oov_token=\"<unk>\")\n",
        "\n",
        "tokenizer.fit_on_texts(df[\"caption_in\"].tolist() + df[\"caption_out\"].tolist())\n",
        "VOCAB_SIZE = len(tokenizer.word_index) + 1  # +1 for padding\n",
        "print(VOCAB_SIZE)\n",
        "\n",
        "word2idx = tokenizer.word_index\n",
        "idx2word = {v: k for k, v in word2idx.items()}"
      ]
    },
    {
      "cell_type": "code",
      "execution_count": null,
      "metadata": {
        "colab": {
          "base_uri": "https://localhost:8080/"
        },
        "id": "gHHj_4OXxNny",
        "outputId": "ddbe8d83-0670-4bb1-bbba-d27303412764"
      },
      "outputs": [
        {
          "output_type": "stream",
          "name": "stdout",
          "text": [
            "MAXIMUM LENGTH OF CAPTION IS:  21\n"
          ]
        },
        {
          "output_type": "execute_result",
          "data": {
            "text/plain": [
              "(15752, 21)"
            ]
          },
          "metadata": {},
          "execution_count": 8
        }
      ],
      "source": [
        "seq_in  = tokenizer.texts_to_sequences(df[\"caption_in\"])\n",
        "seq_out = tokenizer.texts_to_sequences(df[\"caption_out\"])\n",
        "max_len = max(max(len(s) for s in seq_in), max(len(s) for s in seq_out))\n",
        "X_caption = pad_sequences(seq_in,  maxlen=max_len, padding=\"post\")\n",
        "y_caption = pad_sequences(seq_out, maxlen=max_len, padding=\"post\")\n",
        "\n",
        "print(\"MAXIMUM LENGTH OF CAPTION IS: \" ,max_len)\n",
        "X_caption.shape"
      ]
    },
    {
      "cell_type": "code",
      "execution_count": null,
      "metadata": {
        "id": "4M9VHgGc4qGK",
        "colab": {
          "base_uri": "https://localhost:8080/"
        },
        "outputId": "90b4155e-5c7d-48f6-f797-64385f80fcaa"
      },
      "outputs": [
        {
          "output_type": "stream",
          "name": "stdout",
          "text": [
            "[==================================================] 100.0% 376.1/376.1MB downloaded\n"
          ]
        }
      ],
      "source": [
        "import gensim.downloader as api\n",
        "\n",
        "# Load GloVe model (downloads automatically)\n",
        "glove_model = api.load('glove-wiki-gigaword-300')"
      ]
    },
    {
      "cell_type": "code",
      "execution_count": null,
      "metadata": {
        "colab": {
          "base_uri": "https://localhost:8080/"
        },
        "id": "PR7bcFp70mHY",
        "outputId": "58625a51-3aad-4a91-8141-fdc4d300c5ee"
      },
      "outputs": [
        {
          "output_type": "execute_result",
          "data": {
            "text/plain": [
              "(4278, 300)"
            ]
          },
          "metadata": {},
          "execution_count": 10
        }
      ],
      "source": [
        "EMBED_DIM = 300\n",
        "embedding_matrix = np.zeros((VOCAB_SIZE, EMBED_DIM))\n",
        "oov_words = []\n",
        "for word, i in word2idx.items():\n",
        "    if word == '<unk>':\n",
        "        embedding_matrix[i] = np.mean(glove_model.vectors, axis=0)\n",
        "    elif word == 'sos':\n",
        "      embedding_matrix[i] = glove_model['start']\n",
        "    elif word == 'eos':\n",
        "      embedding_matrix[i] = glove_model['end']\n",
        "    elif word in glove_model:\n",
        "        embedding_matrix[i] = glove_model[word]\n",
        "    else:\n",
        "        embedding_matrix[i] = np.random.normal(0, 0.1, EMBED_DIM)\n",
        "        oov_words.append(word)\n",
        "del glove_model\n",
        "embedding_matrix.shape"
      ]
    },
    {
      "cell_type": "markdown",
      "source": [
        "# **`RUN THE NEXT CELL ONLY TO MAKE AUDIO EMBEDDINGS AND SAVE IT!`**\n"
      ],
      "metadata": {
        "id": "KJOsLzqwCgFy"
      }
    },
    {
      "cell_type": "code",
      "source": [
        "# import tensorflow_hub as hub\n",
        "# from tqdm import tqdm\n",
        "# import numpy as np\n",
        "\n",
        "# yamnet_model = hub.load('https://tfhub.dev/google/yamnet/1')\n",
        "# unique_files = df[\"file_name\"].unique()\n",
        "\n",
        "# # Pre-calculate dimensions\n",
        "# sample_audio = load_audio_for_yamnet(f\"/content/drive/MyDrive/clothov21/audio/{unique_files[0]}\")\n",
        "# _, sample_emb, _ = yamnet_model(sample_audio)\n",
        "# time_frames, embed_dim = sample_emb.shape\n",
        "\n",
        "# print(f\"Each audio file: {time_frames} frames × {embed_dim} dimensions\")\n",
        "\n",
        "# # Create memory-mapped array\n",
        "# total_samples = len(df)\n",
        "# embeddings_mmap = np.memmap(\n",
        "#     \"/content/drive/MyDrive/clothov21/X_audio_embeddings.dat\",\n",
        "#     dtype='float32',\n",
        "#     mode='w+',\n",
        "#     shape=(total_samples, time_frames, embed_dim)\n",
        "# )\n",
        "\n",
        "# # Process files and store directly to disk\n",
        "# embedding_dict = {}\n",
        "# for fname in tqdm(unique_files, desc=\"Processing audio\"):\n",
        "#     try:\n",
        "#         audio_tensor = load_audio_for_yamnet(f\"/content/drive/MyDrive/clothov21/audio/{fname}\")\n",
        "#         _, embeddings, _ = yamnet_model(audio_tensor)\n",
        "#         embedding_dict[fname] = embeddings.numpy()\n",
        "#     except Exception as e:\n",
        "#         print(f\"Error processing {fname}: {e}\")\n",
        "\n",
        "# # Map to final array\n",
        "# for idx, (_, row) in enumerate(tqdm(df.iterrows(), desc=\"Mapping to array\")):\n",
        "#     embeddings_mmap[idx] = embedding_dict[row['file_name']]\n",
        "\n",
        "# # Save as numpy array\n",
        "# np.save(\"/content/drive/MyDrive/clothov21/X_audio_embeddings.npy\", embeddings_mmap)\n",
        "# del embeddings_mmap  # Free memory"
      ],
      "metadata": {
        "id": "T9aMDYxKU_go"
      },
      "execution_count": null,
      "outputs": []
    },
    {
      "cell_type": "markdown",
      "source": [
        "# --"
      ],
      "metadata": {
        "id": "QEl5djvQLi1g"
      }
    },
    {
      "cell_type": "code",
      "source": [
        "X_audio_embeddings = np.load(\"/content/drive/MyDrive/clothov21/X_audio_embeddings.npy\")"
      ],
      "metadata": {
        "id": "1yL1Yqu8B1s-"
      },
      "execution_count": null,
      "outputs": []
    },
    {
      "cell_type": "markdown",
      "source": [
        "# ***THE ACTUAL NEURAL NETWORK!***"
      ],
      "metadata": {
        "id": "-VQ0j7A4DIx5"
      }
    },
    {
      "cell_type": "code",
      "execution_count": null,
      "metadata": {
        "id": "QRL6Cjp86Abu",
        "colab": {
          "base_uri": "https://localhost:8080/",
          "height": 673
        },
        "outputId": "df96c5c1-5b07-4abb-c5f9-639768567dec"
      },
      "outputs": [
        {
          "output_type": "display_data",
          "data": {
            "text/plain": [
              "\u001b[1mModel: \"audio_captioning_full\"\u001b[0m\n"
            ],
            "text/html": [
              "<pre style=\"white-space:pre;overflow-x:auto;line-height:normal;font-family:Menlo,'DejaVu Sans Mono',consolas,'Courier New',monospace\"><span style=\"font-weight: bold\">Model: \"audio_captioning_full\"</span>\n",
              "</pre>\n"
            ]
          },
          "metadata": {}
        },
        {
          "output_type": "display_data",
          "data": {
            "text/plain": [
              "┏━━━━━━━━━━━━━━━━━━━━━┳━━━━━━━━━━━━━━━━━━━┳━━━━━━━━━━━━┳━━━━━━━━━━━━━━━━━━━┓\n",
              "┃\u001b[1m \u001b[0m\u001b[1mLayer (type)       \u001b[0m\u001b[1m \u001b[0m┃\u001b[1m \u001b[0m\u001b[1mOutput Shape     \u001b[0m\u001b[1m \u001b[0m┃\u001b[1m \u001b[0m\u001b[1m   Param #\u001b[0m\u001b[1m \u001b[0m┃\u001b[1m \u001b[0m\u001b[1mConnected to     \u001b[0m\u001b[1m \u001b[0m┃\n",
              "┡━━━━━━━━━━━━━━━━━━━━━╇━━━━━━━━━━━━━━━━━━━╇━━━━━━━━━━━━╇━━━━━━━━━━━━━━━━━━━┩\n",
              "│ caption_input       │ (\u001b[38;5;45mNone\u001b[0m, \u001b[38;5;45mNone\u001b[0m)      │          \u001b[38;5;34m0\u001b[0m │ -                 │\n",
              "│ (\u001b[38;5;33mInputLayer\u001b[0m)        │                   │            │                   │\n",
              "├─────────────────────┼───────────────────┼────────────┼───────────────────┤\n",
              "│ audio_input         │ (\u001b[38;5;45mNone\u001b[0m, \u001b[38;5;45mNone\u001b[0m,      │          \u001b[38;5;34m0\u001b[0m │ -                 │\n",
              "│ (\u001b[38;5;33mInputLayer\u001b[0m)        │ \u001b[38;5;34m1024\u001b[0m)             │            │                   │\n",
              "├─────────────────────┼───────────────────┼────────────┼───────────────────┤\n",
              "│ embedding           │ (\u001b[38;5;45mNone\u001b[0m, \u001b[38;5;45mNone\u001b[0m, \u001b[38;5;34m300\u001b[0m) │  \u001b[38;5;34m1,283,400\u001b[0m │ caption_input[\u001b[38;5;34m0\u001b[0m]… │\n",
              "│ (\u001b[38;5;33mEmbedding\u001b[0m)         │                   │            │                   │\n",
              "├─────────────────────┼───────────────────┼────────────┼───────────────────┤\n",
              "│ encoder_lstm        │ (\u001b[38;5;45mNone\u001b[0m, \u001b[38;5;45mNone\u001b[0m,      │  \u001b[38;5;34m6,295,552\u001b[0m │ audio_input[\u001b[38;5;34m0\u001b[0m][\u001b[38;5;34m0\u001b[0m] │\n",
              "│ (\u001b[38;5;33mBidirectional\u001b[0m)     │ \u001b[38;5;34m1024\u001b[0m)             │            │                   │\n",
              "├─────────────────────┼───────────────────┼────────────┼───────────────────┤\n",
              "│ decoder_lstm (\u001b[38;5;33mLSTM\u001b[0m) │ (\u001b[38;5;45mNone\u001b[0m, \u001b[38;5;45mNone\u001b[0m, \u001b[38;5;34m512\u001b[0m) │  \u001b[38;5;34m1,665,024\u001b[0m │ embedding[\u001b[38;5;34m0\u001b[0m][\u001b[38;5;34m0\u001b[0m]   │\n",
              "├─────────────────────┼───────────────────┼────────────┼───────────────────┤\n",
              "│ dropout (\u001b[38;5;33mDropout\u001b[0m)   │ (\u001b[38;5;45mNone\u001b[0m, \u001b[38;5;45mNone\u001b[0m,      │          \u001b[38;5;34m0\u001b[0m │ encoder_lstm[\u001b[38;5;34m0\u001b[0m][\u001b[38;5;34m…\u001b[0m │\n",
              "│                     │ \u001b[38;5;34m1024\u001b[0m)             │            │                   │\n",
              "├─────────────────────┼───────────────────┼────────────┼───────────────────┤\n",
              "│ dropout_1 (\u001b[38;5;33mDropout\u001b[0m) │ (\u001b[38;5;45mNone\u001b[0m, \u001b[38;5;45mNone\u001b[0m, \u001b[38;5;34m512\u001b[0m) │          \u001b[38;5;34m0\u001b[0m │ decoder_lstm[\u001b[38;5;34m0\u001b[0m][\u001b[38;5;34m…\u001b[0m │\n",
              "├─────────────────────┼───────────────────┼────────────┼───────────────────┤\n",
              "│ enc_proj (\u001b[38;5;33mDense\u001b[0m)    │ (\u001b[38;5;45mNone\u001b[0m, \u001b[38;5;45mNone\u001b[0m, \u001b[38;5;34m512\u001b[0m) │    \u001b[38;5;34m524,800\u001b[0m │ dropout[\u001b[38;5;34m0\u001b[0m][\u001b[38;5;34m0\u001b[0m]     │\n",
              "├─────────────────────┼───────────────────┼────────────┼───────────────────┤\n",
              "│ attention           │ (\u001b[38;5;45mNone\u001b[0m, \u001b[38;5;45mNone\u001b[0m, \u001b[38;5;34m512\u001b[0m) │        \u001b[38;5;34m512\u001b[0m │ dropout_1[\u001b[38;5;34m0\u001b[0m][\u001b[38;5;34m0\u001b[0m],  │\n",
              "│ (\u001b[38;5;33mAdditiveAttention\u001b[0m) │                   │            │ enc_proj[\u001b[38;5;34m0\u001b[0m][\u001b[38;5;34m0\u001b[0m]    │\n",
              "├─────────────────────┼───────────────────┼────────────┼───────────────────┤\n",
              "│ concatenate         │ (\u001b[38;5;45mNone\u001b[0m, \u001b[38;5;45mNone\u001b[0m,      │          \u001b[38;5;34m0\u001b[0m │ dropout_1[\u001b[38;5;34m0\u001b[0m][\u001b[38;5;34m0\u001b[0m],  │\n",
              "│ (\u001b[38;5;33mConcatenate\u001b[0m)       │ \u001b[38;5;34m1024\u001b[0m)             │            │ attention[\u001b[38;5;34m0\u001b[0m][\u001b[38;5;34m0\u001b[0m]   │\n",
              "├─────────────────────┼───────────────────┼────────────┼───────────────────┤\n",
              "│ dense (\u001b[38;5;33mDense\u001b[0m)       │ (\u001b[38;5;45mNone\u001b[0m, \u001b[38;5;45mNone\u001b[0m, \u001b[38;5;34m512\u001b[0m) │    \u001b[38;5;34m524,800\u001b[0m │ concatenate[\u001b[38;5;34m0\u001b[0m][\u001b[38;5;34m0\u001b[0m] │\n",
              "├─────────────────────┼───────────────────┼────────────┼───────────────────┤\n",
              "│ dropout_2 (\u001b[38;5;33mDropout\u001b[0m) │ (\u001b[38;5;45mNone\u001b[0m, \u001b[38;5;45mNone\u001b[0m, \u001b[38;5;34m512\u001b[0m) │          \u001b[38;5;34m0\u001b[0m │ dense[\u001b[38;5;34m0\u001b[0m][\u001b[38;5;34m0\u001b[0m]       │\n",
              "├─────────────────────┼───────────────────┼────────────┼───────────────────┤\n",
              "│ token_logits        │ (\u001b[38;5;45mNone\u001b[0m, \u001b[38;5;45mNone\u001b[0m,      │  \u001b[38;5;34m2,194,614\u001b[0m │ dropout_2[\u001b[38;5;34m0\u001b[0m][\u001b[38;5;34m0\u001b[0m]   │\n",
              "│ (\u001b[38;5;33mTimeDistributed\u001b[0m)   │ \u001b[38;5;34m4278\u001b[0m)             │            │                   │\n",
              "└─────────────────────┴───────────────────┴────────────┴───────────────────┘\n"
            ],
            "text/html": [
              "<pre style=\"white-space:pre;overflow-x:auto;line-height:normal;font-family:Menlo,'DejaVu Sans Mono',consolas,'Courier New',monospace\">┏━━━━━━━━━━━━━━━━━━━━━┳━━━━━━━━━━━━━━━━━━━┳━━━━━━━━━━━━┳━━━━━━━━━━━━━━━━━━━┓\n",
              "┃<span style=\"font-weight: bold\"> Layer (type)        </span>┃<span style=\"font-weight: bold\"> Output Shape      </span>┃<span style=\"font-weight: bold\">    Param # </span>┃<span style=\"font-weight: bold\"> Connected to      </span>┃\n",
              "┡━━━━━━━━━━━━━━━━━━━━━╇━━━━━━━━━━━━━━━━━━━╇━━━━━━━━━━━━╇━━━━━━━━━━━━━━━━━━━┩\n",
              "│ caption_input       │ (<span style=\"color: #00d7ff; text-decoration-color: #00d7ff\">None</span>, <span style=\"color: #00d7ff; text-decoration-color: #00d7ff\">None</span>)      │          <span style=\"color: #00af00; text-decoration-color: #00af00\">0</span> │ -                 │\n",
              "│ (<span style=\"color: #0087ff; text-decoration-color: #0087ff\">InputLayer</span>)        │                   │            │                   │\n",
              "├─────────────────────┼───────────────────┼────────────┼───────────────────┤\n",
              "│ audio_input         │ (<span style=\"color: #00d7ff; text-decoration-color: #00d7ff\">None</span>, <span style=\"color: #00d7ff; text-decoration-color: #00d7ff\">None</span>,      │          <span style=\"color: #00af00; text-decoration-color: #00af00\">0</span> │ -                 │\n",
              "│ (<span style=\"color: #0087ff; text-decoration-color: #0087ff\">InputLayer</span>)        │ <span style=\"color: #00af00; text-decoration-color: #00af00\">1024</span>)             │            │                   │\n",
              "├─────────────────────┼───────────────────┼────────────┼───────────────────┤\n",
              "│ embedding           │ (<span style=\"color: #00d7ff; text-decoration-color: #00d7ff\">None</span>, <span style=\"color: #00d7ff; text-decoration-color: #00d7ff\">None</span>, <span style=\"color: #00af00; text-decoration-color: #00af00\">300</span>) │  <span style=\"color: #00af00; text-decoration-color: #00af00\">1,283,400</span> │ caption_input[<span style=\"color: #00af00; text-decoration-color: #00af00\">0</span>]… │\n",
              "│ (<span style=\"color: #0087ff; text-decoration-color: #0087ff\">Embedding</span>)         │                   │            │                   │\n",
              "├─────────────────────┼───────────────────┼────────────┼───────────────────┤\n",
              "│ encoder_lstm        │ (<span style=\"color: #00d7ff; text-decoration-color: #00d7ff\">None</span>, <span style=\"color: #00d7ff; text-decoration-color: #00d7ff\">None</span>,      │  <span style=\"color: #00af00; text-decoration-color: #00af00\">6,295,552</span> │ audio_input[<span style=\"color: #00af00; text-decoration-color: #00af00\">0</span>][<span style=\"color: #00af00; text-decoration-color: #00af00\">0</span>] │\n",
              "│ (<span style=\"color: #0087ff; text-decoration-color: #0087ff\">Bidirectional</span>)     │ <span style=\"color: #00af00; text-decoration-color: #00af00\">1024</span>)             │            │                   │\n",
              "├─────────────────────┼───────────────────┼────────────┼───────────────────┤\n",
              "│ decoder_lstm (<span style=\"color: #0087ff; text-decoration-color: #0087ff\">LSTM</span>) │ (<span style=\"color: #00d7ff; text-decoration-color: #00d7ff\">None</span>, <span style=\"color: #00d7ff; text-decoration-color: #00d7ff\">None</span>, <span style=\"color: #00af00; text-decoration-color: #00af00\">512</span>) │  <span style=\"color: #00af00; text-decoration-color: #00af00\">1,665,024</span> │ embedding[<span style=\"color: #00af00; text-decoration-color: #00af00\">0</span>][<span style=\"color: #00af00; text-decoration-color: #00af00\">0</span>]   │\n",
              "├─────────────────────┼───────────────────┼────────────┼───────────────────┤\n",
              "│ dropout (<span style=\"color: #0087ff; text-decoration-color: #0087ff\">Dropout</span>)   │ (<span style=\"color: #00d7ff; text-decoration-color: #00d7ff\">None</span>, <span style=\"color: #00d7ff; text-decoration-color: #00d7ff\">None</span>,      │          <span style=\"color: #00af00; text-decoration-color: #00af00\">0</span> │ encoder_lstm[<span style=\"color: #00af00; text-decoration-color: #00af00\">0</span>][<span style=\"color: #00af00; text-decoration-color: #00af00\">…</span> │\n",
              "│                     │ <span style=\"color: #00af00; text-decoration-color: #00af00\">1024</span>)             │            │                   │\n",
              "├─────────────────────┼───────────────────┼────────────┼───────────────────┤\n",
              "│ dropout_1 (<span style=\"color: #0087ff; text-decoration-color: #0087ff\">Dropout</span>) │ (<span style=\"color: #00d7ff; text-decoration-color: #00d7ff\">None</span>, <span style=\"color: #00d7ff; text-decoration-color: #00d7ff\">None</span>, <span style=\"color: #00af00; text-decoration-color: #00af00\">512</span>) │          <span style=\"color: #00af00; text-decoration-color: #00af00\">0</span> │ decoder_lstm[<span style=\"color: #00af00; text-decoration-color: #00af00\">0</span>][<span style=\"color: #00af00; text-decoration-color: #00af00\">…</span> │\n",
              "├─────────────────────┼───────────────────┼────────────┼───────────────────┤\n",
              "│ enc_proj (<span style=\"color: #0087ff; text-decoration-color: #0087ff\">Dense</span>)    │ (<span style=\"color: #00d7ff; text-decoration-color: #00d7ff\">None</span>, <span style=\"color: #00d7ff; text-decoration-color: #00d7ff\">None</span>, <span style=\"color: #00af00; text-decoration-color: #00af00\">512</span>) │    <span style=\"color: #00af00; text-decoration-color: #00af00\">524,800</span> │ dropout[<span style=\"color: #00af00; text-decoration-color: #00af00\">0</span>][<span style=\"color: #00af00; text-decoration-color: #00af00\">0</span>]     │\n",
              "├─────────────────────┼───────────────────┼────────────┼───────────────────┤\n",
              "│ attention           │ (<span style=\"color: #00d7ff; text-decoration-color: #00d7ff\">None</span>, <span style=\"color: #00d7ff; text-decoration-color: #00d7ff\">None</span>, <span style=\"color: #00af00; text-decoration-color: #00af00\">512</span>) │        <span style=\"color: #00af00; text-decoration-color: #00af00\">512</span> │ dropout_1[<span style=\"color: #00af00; text-decoration-color: #00af00\">0</span>][<span style=\"color: #00af00; text-decoration-color: #00af00\">0</span>],  │\n",
              "│ (<span style=\"color: #0087ff; text-decoration-color: #0087ff\">AdditiveAttention</span>) │                   │            │ enc_proj[<span style=\"color: #00af00; text-decoration-color: #00af00\">0</span>][<span style=\"color: #00af00; text-decoration-color: #00af00\">0</span>]    │\n",
              "├─────────────────────┼───────────────────┼────────────┼───────────────────┤\n",
              "│ concatenate         │ (<span style=\"color: #00d7ff; text-decoration-color: #00d7ff\">None</span>, <span style=\"color: #00d7ff; text-decoration-color: #00d7ff\">None</span>,      │          <span style=\"color: #00af00; text-decoration-color: #00af00\">0</span> │ dropout_1[<span style=\"color: #00af00; text-decoration-color: #00af00\">0</span>][<span style=\"color: #00af00; text-decoration-color: #00af00\">0</span>],  │\n",
              "│ (<span style=\"color: #0087ff; text-decoration-color: #0087ff\">Concatenate</span>)       │ <span style=\"color: #00af00; text-decoration-color: #00af00\">1024</span>)             │            │ attention[<span style=\"color: #00af00; text-decoration-color: #00af00\">0</span>][<span style=\"color: #00af00; text-decoration-color: #00af00\">0</span>]   │\n",
              "├─────────────────────┼───────────────────┼────────────┼───────────────────┤\n",
              "│ dense (<span style=\"color: #0087ff; text-decoration-color: #0087ff\">Dense</span>)       │ (<span style=\"color: #00d7ff; text-decoration-color: #00d7ff\">None</span>, <span style=\"color: #00d7ff; text-decoration-color: #00d7ff\">None</span>, <span style=\"color: #00af00; text-decoration-color: #00af00\">512</span>) │    <span style=\"color: #00af00; text-decoration-color: #00af00\">524,800</span> │ concatenate[<span style=\"color: #00af00; text-decoration-color: #00af00\">0</span>][<span style=\"color: #00af00; text-decoration-color: #00af00\">0</span>] │\n",
              "├─────────────────────┼───────────────────┼────────────┼───────────────────┤\n",
              "│ dropout_2 (<span style=\"color: #0087ff; text-decoration-color: #0087ff\">Dropout</span>) │ (<span style=\"color: #00d7ff; text-decoration-color: #00d7ff\">None</span>, <span style=\"color: #00d7ff; text-decoration-color: #00d7ff\">None</span>, <span style=\"color: #00af00; text-decoration-color: #00af00\">512</span>) │          <span style=\"color: #00af00; text-decoration-color: #00af00\">0</span> │ dense[<span style=\"color: #00af00; text-decoration-color: #00af00\">0</span>][<span style=\"color: #00af00; text-decoration-color: #00af00\">0</span>]       │\n",
              "├─────────────────────┼───────────────────┼────────────┼───────────────────┤\n",
              "│ token_logits        │ (<span style=\"color: #00d7ff; text-decoration-color: #00d7ff\">None</span>, <span style=\"color: #00d7ff; text-decoration-color: #00d7ff\">None</span>,      │  <span style=\"color: #00af00; text-decoration-color: #00af00\">2,194,614</span> │ dropout_2[<span style=\"color: #00af00; text-decoration-color: #00af00\">0</span>][<span style=\"color: #00af00; text-decoration-color: #00af00\">0</span>]   │\n",
              "│ (<span style=\"color: #0087ff; text-decoration-color: #0087ff\">TimeDistributed</span>)   │ <span style=\"color: #00af00; text-decoration-color: #00af00\">4278</span>)             │            │                   │\n",
              "└─────────────────────┴───────────────────┴────────────┴───────────────────┘\n",
              "</pre>\n"
            ]
          },
          "metadata": {}
        },
        {
          "output_type": "display_data",
          "data": {
            "text/plain": [
              "\u001b[1m Total params: \u001b[0m\u001b[38;5;34m12,488,702\u001b[0m (47.64 MB)\n"
            ],
            "text/html": [
              "<pre style=\"white-space:pre;overflow-x:auto;line-height:normal;font-family:Menlo,'DejaVu Sans Mono',consolas,'Courier New',monospace\"><span style=\"font-weight: bold\"> Total params: </span><span style=\"color: #00af00; text-decoration-color: #00af00\">12,488,702</span> (47.64 MB)\n",
              "</pre>\n"
            ]
          },
          "metadata": {}
        },
        {
          "output_type": "display_data",
          "data": {
            "text/plain": [
              "\u001b[1m Trainable params: \u001b[0m\u001b[38;5;34m12,488,702\u001b[0m (47.64 MB)\n"
            ],
            "text/html": [
              "<pre style=\"white-space:pre;overflow-x:auto;line-height:normal;font-family:Menlo,'DejaVu Sans Mono',consolas,'Courier New',monospace\"><span style=\"font-weight: bold\"> Trainable params: </span><span style=\"color: #00af00; text-decoration-color: #00af00\">12,488,702</span> (47.64 MB)\n",
              "</pre>\n"
            ]
          },
          "metadata": {}
        },
        {
          "output_type": "display_data",
          "data": {
            "text/plain": [
              "\u001b[1m Non-trainable params: \u001b[0m\u001b[38;5;34m0\u001b[0m (0.00 B)\n"
            ],
            "text/html": [
              "<pre style=\"white-space:pre;overflow-x:auto;line-height:normal;font-family:Menlo,'DejaVu Sans Mono',consolas,'Courier New',monospace\"><span style=\"font-weight: bold\"> Non-trainable params: </span><span style=\"color: #00af00; text-decoration-color: #00af00\">0</span> (0.00 B)\n",
              "</pre>\n"
            ]
          },
          "metadata": {}
        }
      ],
      "source": [
        "import tensorflow as tf\n",
        "from tensorflow.keras import layers, Model\n",
        "import tensorflow_hub as hub\n",
        "\n",
        "# ------------------ Hyperparameters ------------------\n",
        "ENC_LSTM_UNITS = 512\n",
        "DEC_UNITS      = 512\n",
        "EMBED_DIM      = 300\n",
        "ATTN_UNITS     = 512\n",
        "DROPOUT        = 0.4\n",
        "\n",
        "# ------------------ Embedded Inputs ------------------\n",
        "input_audio_embeddings = layers.Input(shape=(None, 1024), name=\"audio_input\")  # YAMNet outputs 1024-dim\n",
        "input_caption = layers.Input(shape=(None,), dtype=\"int32\", name=\"caption_input\")\n",
        "\n",
        "# ------------------ Encoder LSTM ------------------\n",
        "enc_lstm = layers.Bidirectional(\n",
        "    layers.LSTM(ENC_LSTM_UNITS, return_sequences=True),\n",
        "    name=\"encoder_lstm\"\n",
        ")(input_audio_embeddings)  # (B, T, 2*ENC_LSTM_UNITS)\n",
        "\n",
        "enc_lstm = layers.Dropout(DROPOUT)(enc_lstm)\n",
        "enc_proj = layers.Dense(ENC_LSTM_UNITS, activation=\"relu\", name=\"enc_proj\")(enc_lstm)\n",
        "\n",
        "# ------------------ Decoder ------------------\n",
        "caption_embedding = layers.Embedding(VOCAB_SIZE, EMBED_DIM, weights=[embedding_matrix], trainable = True)(input_caption)\n",
        "dec_lstm = layers.LSTM(DEC_UNITS, return_sequences=True, name=\"decoder_lstm\")(caption_embedding)\n",
        "dec_lstm = layers.Dropout(DROPOUT)(dec_lstm)\n",
        "\n",
        "# ------------------ Attention ------------------\n",
        "context = layers.AdditiveAttention(name=\"attention\")([dec_lstm, enc_proj])\n",
        "\n",
        "# Merge context + decoder hidden state\n",
        "merged = layers.Concatenate(axis=-1)([dec_lstm, context])\n",
        "merged = layers.Dense(ATTN_UNITS, activation=\"tanh\")(merged)\n",
        "merged = layers.Dropout(DROPOUT)(merged)\n",
        "\n",
        "# ------------------ Output ------------------\n",
        "logits = layers.TimeDistributed(\n",
        "    layers.Dense(VOCAB_SIZE),\n",
        "    name=\"token_logits\"\n",
        ")(merged)\n",
        "\n",
        "# ------------------ Build ------------------\n",
        "model = Model(inputs=[input_audio_embeddings, input_caption], outputs=logits, name=\"audio_captioning_full\")\n",
        "\n",
        "model.compile(\n",
        "    optimizer=tf.keras.optimizers.Adam(2e-4),\n",
        "    loss=tf.keras.losses.SparseCategoricalCrossentropy(from_logits=True),  # Add this!\n",
        "    metrics=[\"accuracy\"]\n",
        ")\n",
        "\n",
        "model.summary()"
      ]
    },
    {
      "cell_type": "code",
      "source": [
        "print(\"X_audio_embeddings shape/dtype:\", X_audio_embeddings.shape, X_audio_embeddings.dtype)\n",
        "print(\"X_caption shape/dtype:\", X_caption.shape, X_caption.dtype)\n",
        "print(\"y_caption shape/dtype:\", y_caption.shape, y_caption.dtype)\n",
        "\n",
        "# Make sure they're the right types:\n",
        "X_audio_embeddings = X_audio_embeddings.astype(np.float32)\n",
        "X_caption = X_caption.astype(np.int32)\n",
        "y_caption = y_caption.astype(np.int32)"
      ],
      "metadata": {
        "colab": {
          "base_uri": "https://localhost:8080/"
        },
        "id": "e7Qlq5NYbToo",
        "outputId": "8548e59a-fd06-4ae9-b521-124f6af6c9bb"
      },
      "execution_count": null,
      "outputs": [
        {
          "output_type": "stream",
          "name": "stdout",
          "text": [
            "X_audio_embeddings shape/dtype: (15752, 41, 1024) float32\n",
            "X_caption shape/dtype: (15752, 21) int32\n",
            "y_caption shape/dtype: (15752, 21) int32\n"
          ]
        }
      ]
    },
    {
      "cell_type": "code",
      "source": [
        "history = model.fit(\n",
        "    [X_audio_embeddings, X_caption], y_caption,\n",
        "    batch_size=32,\n",
        "    epochs=25,\n",
        "    validation_split = 0.2\n",
        ")\n",
        "\n",
        "model.save('/content/drive/MyDrive/clothov21/audio_captioning_model_best.keras')"
      ],
      "metadata": {
        "colab": {
          "base_uri": "https://localhost:8080/"
        },
        "id": "BaeCuS6aabF3",
        "outputId": "437a5812-3577-4a0f-d846-a4e925e6de74"
      },
      "execution_count": null,
      "outputs": [
        {
          "output_type": "stream",
          "name": "stdout",
          "text": [
            "Epoch 1/25\n",
            "\u001b[1m394/394\u001b[0m \u001b[32m━━━━━━━━━━━━━━━━━━━━\u001b[0m\u001b[37m\u001b[0m \u001b[1m815s\u001b[0m 2s/step - accuracy: 0.4544 - loss: 4.1087 - val_accuracy: 0.5326 - val_loss: 2.9475\n",
            "Epoch 2/25\n",
            "\u001b[1m394/394\u001b[0m \u001b[32m━━━━━━━━━━━━━━━━━━━━\u001b[0m\u001b[37m\u001b[0m \u001b[1m828s\u001b[0m 2s/step - accuracy: 0.5513 - loss: 2.8262 - val_accuracy: 0.5538 - val_loss: 2.6242\n",
            "Epoch 3/25\n",
            "\u001b[1m394/394\u001b[0m \u001b[32m━━━━━━━━━━━━━━━━━━━━\u001b[0m\u001b[37m\u001b[0m \u001b[1m793s\u001b[0m 2s/step - accuracy: 0.5727 - loss: 2.5345 - val_accuracy: 0.5699 - val_loss: 2.4605\n",
            "Epoch 4/25\n",
            "\u001b[1m394/394\u001b[0m \u001b[32m━━━━━━━━━━━━━━━━━━━━\u001b[0m\u001b[37m\u001b[0m \u001b[1m799s\u001b[0m 2s/step - accuracy: 0.5858 - loss: 2.3611 - val_accuracy: 0.5788 - val_loss: 2.3553\n",
            "Epoch 5/25\n",
            "\u001b[1m394/394\u001b[0m \u001b[32m━━━━━━━━━━━━━━━━━━━━\u001b[0m\u001b[37m\u001b[0m \u001b[1m766s\u001b[0m 2s/step - accuracy: 0.5959 - loss: 2.2395 - val_accuracy: 0.5855 - val_loss: 2.2772\n",
            "Epoch 6/25\n",
            "\u001b[1m394/394\u001b[0m \u001b[32m━━━━━━━━━━━━━━━━━━━━\u001b[0m\u001b[37m\u001b[0m \u001b[1m768s\u001b[0m 2s/step - accuracy: 0.6039 - loss: 2.1363 - val_accuracy: 0.5924 - val_loss: 2.2175\n",
            "Epoch 7/25\n",
            "\u001b[1m394/394\u001b[0m \u001b[32m━━━━━━━━━━━━━━━━━━━━\u001b[0m\u001b[37m\u001b[0m \u001b[1m770s\u001b[0m 2s/step - accuracy: 0.6085 - loss: 2.0702 - val_accuracy: 0.5984 - val_loss: 2.1718\n",
            "Epoch 8/25\n",
            "\u001b[1m394/394\u001b[0m \u001b[32m━━━━━━━━━━━━━━━━━━━━\u001b[0m\u001b[37m\u001b[0m \u001b[1m774s\u001b[0m 2s/step - accuracy: 0.6137 - loss: 2.0044 - val_accuracy: 0.6007 - val_loss: 2.1318\n",
            "Epoch 9/25\n",
            "\u001b[1m394/394\u001b[0m \u001b[32m━━━━━━━━━━━━━━━━━━━━\u001b[0m\u001b[37m\u001b[0m \u001b[1m810s\u001b[0m 2s/step - accuracy: 0.6204 - loss: 1.9359 - val_accuracy: 0.6055 - val_loss: 2.0994\n",
            "Epoch 10/25\n",
            "\u001b[1m394/394\u001b[0m \u001b[32m━━━━━━━━━━━━━━━━━━━━\u001b[0m\u001b[37m\u001b[0m \u001b[1m800s\u001b[0m 2s/step - accuracy: 0.6280 - loss: 1.8732 - val_accuracy: 0.6085 - val_loss: 2.0759\n",
            "Epoch 11/25\n",
            "\u001b[1m394/394\u001b[0m \u001b[32m━━━━━━━━━━━━━━━━━━━━\u001b[0m\u001b[37m\u001b[0m \u001b[1m803s\u001b[0m 2s/step - accuracy: 0.6344 - loss: 1.8074 - val_accuracy: 0.6113 - val_loss: 2.0511\n",
            "Epoch 12/25\n",
            "\u001b[1m394/394\u001b[0m \u001b[32m━━━━━━━━━━━━━━━━━━━━\u001b[0m\u001b[37m\u001b[0m \u001b[1m763s\u001b[0m 2s/step - accuracy: 0.6401 - loss: 1.7533 - val_accuracy: 0.6123 - val_loss: 2.0328\n",
            "Epoch 13/25\n",
            "\u001b[1m394/394\u001b[0m \u001b[32m━━━━━━━━━━━━━━━━━━━━\u001b[0m\u001b[37m\u001b[0m \u001b[1m780s\u001b[0m 2s/step - accuracy: 0.6420 - loss: 1.7226 - val_accuracy: 0.6143 - val_loss: 2.0263\n",
            "Epoch 14/25\n",
            "\u001b[1m394/394\u001b[0m \u001b[32m━━━━━━━━━━━━━━━━━━━━\u001b[0m\u001b[37m\u001b[0m \u001b[1m809s\u001b[0m 2s/step - accuracy: 0.6473 - loss: 1.6724 - val_accuracy: 0.6171 - val_loss: 2.0038\n",
            "Epoch 15/25\n",
            "\u001b[1m394/394\u001b[0m \u001b[32m━━━━━━━━━━━━━━━━━━━━\u001b[0m\u001b[37m\u001b[0m \u001b[1m804s\u001b[0m 2s/step - accuracy: 0.6515 - loss: 1.6285 - val_accuracy: 0.6162 - val_loss: 2.0025\n",
            "Epoch 16/25\n",
            "\u001b[1m394/394\u001b[0m \u001b[32m━━━━━━━━━━━━━━━━━━━━\u001b[0m\u001b[37m\u001b[0m \u001b[1m800s\u001b[0m 2s/step - accuracy: 0.6578 - loss: 1.5896 - val_accuracy: 0.6178 - val_loss: 1.9998\n",
            "Epoch 17/25\n",
            "\u001b[1m394/394\u001b[0m \u001b[32m━━━━━━━━━━━━━━━━━━━━\u001b[0m\u001b[37m\u001b[0m \u001b[1m795s\u001b[0m 2s/step - accuracy: 0.6633 - loss: 1.5441 - val_accuracy: 0.6192 - val_loss: 1.9886\n",
            "Epoch 18/25\n",
            "\u001b[1m394/394\u001b[0m \u001b[32m━━━━━━━━━━━━━━━━━━━━\u001b[0m\u001b[37m\u001b[0m \u001b[1m809s\u001b[0m 2s/step - accuracy: 0.6706 - loss: 1.5002 - val_accuracy: 0.6202 - val_loss: 1.9823\n",
            "Epoch 19/25\n",
            "\u001b[1m394/394\u001b[0m \u001b[32m━━━━━━━━━━━━━━━━━━━━\u001b[0m\u001b[37m\u001b[0m \u001b[1m808s\u001b[0m 2s/step - accuracy: 0.6755 - loss: 1.4676 - val_accuracy: 0.6225 - val_loss: 1.9776\n",
            "Epoch 20/25\n",
            "\u001b[1m394/394\u001b[0m \u001b[32m━━━━━━━━━━━━━━━━━━━━\u001b[0m\u001b[37m\u001b[0m \u001b[1m808s\u001b[0m 2s/step - accuracy: 0.6807 - loss: 1.4220 - val_accuracy: 0.6205 - val_loss: 1.9769\n",
            "Epoch 21/25\n",
            "\u001b[1m394/394\u001b[0m \u001b[32m━━━━━━━━━━━━━━━━━━━━\u001b[0m\u001b[37m\u001b[0m \u001b[1m754s\u001b[0m 2s/step - accuracy: 0.6839 - loss: 1.3964 - val_accuracy: 0.6227 - val_loss: 1.9762\n",
            "Epoch 22/25\n",
            "\u001b[1m394/394\u001b[0m \u001b[32m━━━━━━━━━━━━━━━━━━━━\u001b[0m\u001b[37m\u001b[0m \u001b[1m744s\u001b[0m 2s/step - accuracy: 0.6914 - loss: 1.3540 - val_accuracy: 0.6229 - val_loss: 1.9814\n",
            "Epoch 23/25\n",
            "\u001b[1m394/394\u001b[0m \u001b[32m━━━━━━━━━━━━━━━━━━━━\u001b[0m\u001b[37m\u001b[0m \u001b[1m768s\u001b[0m 2s/step - accuracy: 0.6958 - loss: 1.3159 - val_accuracy: 0.6238 - val_loss: 1.9791\n",
            "Epoch 24/25\n",
            "\u001b[1m394/394\u001b[0m \u001b[32m━━━━━━━━━━━━━━━━━━━━\u001b[0m\u001b[37m\u001b[0m \u001b[1m774s\u001b[0m 2s/step - accuracy: 0.7025 - loss: 1.2872 - val_accuracy: 0.6237 - val_loss: 1.9843\n",
            "Epoch 25/25\n",
            "\u001b[1m394/394\u001b[0m \u001b[32m━━━━━━━━━━━━━━━━━━━━\u001b[0m\u001b[37m\u001b[0m \u001b[1m793s\u001b[0m 2s/step - accuracy: 0.7072 - loss: 1.2558 - val_accuracy: 0.6261 - val_loss: 1.9865\n"
          ]
        }
      ]
    },
    {
      "cell_type": "code",
      "source": [
        "model = keras.models.load_model('/content/drive/MyDrive/clothov21/audio_captioning_model_best.keras')"
      ],
      "metadata": {
        "id": "p26sq91RbjST"
      },
      "execution_count": null,
      "outputs": []
    },
    {
      "cell_type": "code",
      "source": [
        "#------- TEST --------\n",
        "\n",
        "audio_num = 599\n",
        "\n",
        "sample_audio = X_audio_embeddings[audio_num]\n",
        "sample_file = df.iloc[audio_num]['file_name']\n",
        "\n",
        "def test_caption(audio_embedding, max_len=20):\n",
        "    sos_token = tokenizer.word_index.get('sos', 1)\n",
        "    eos_token = tokenizer.word_index.get('eos', 2)\n",
        "    caption = [sos_token]\n",
        "\n",
        "    audio_batch = np.expand_dims(audio_embedding, 0)\n",
        "\n",
        "    for _ in range(max_len):\n",
        "        caption_input = np.array([caption])\n",
        "        predictions = model.predict([audio_batch, caption_input], verbose=0)\n",
        "\n",
        "        next_token = np.argmax(predictions[0, len(caption)-1, :])\n",
        "\n",
        "        if next_token == eos_token:\n",
        "            break\n",
        "        caption.append(next_token)\n",
        "\n",
        "    words = []\n",
        "    for token in caption[1:]:\n",
        "        if token in idx2word:\n",
        "            word = idx2word[token]\n",
        "            if word not in ['<sos>', '<eos>', '<pad>']:\n",
        "                words.append(word)\n",
        "\n",
        "    return ' '.join(words)\n",
        "\n",
        "print(f\"Audio file: {sample_file}\")\n",
        "print(f\"Generated caption: '{test_caption(sample_audio)}'\")\n",
        "\n",
        "# 4. Compare with true caption (optional)\n",
        "true_caption = df.iloc[audio_num]['caption_in']\n",
        "print(f\"True caption: '{true_caption}'\")"
      ],
      "metadata": {
        "colab": {
          "base_uri": "https://localhost:8080/"
        },
        "id": "qxfbZ3H-Mh5G",
        "outputId": "f7332e2b-139d-4c4d-cf4c-a2d110b72116"
      },
      "execution_count": 71,
      "outputs": [
        {
          "output_type": "stream",
          "name": "stdout",
          "text": [
            "Audio file: Juicer Shredding and Shutting Down.wav\n",
            "Generated caption: 'a machine is running at a constant speed and then slowing down'\n",
            "True caption: '<sos> A spinning motor runs higher and lower repeatedly.'\n"
          ]
        }
      ]
    },
    {
      "cell_type": "code",
      "source": [
        "from nltk.translate.bleu_score import sentence_bleu, corpus_bleu\n",
        "!pip install pycocoevalcap\n",
        "from pycocoevalcap.cider.cider import Cider\n",
        "from pycocoevalcap.bleu.bleu import Bleu\n",
        "import numpy as np\n",
        "\n",
        "def calculate_metrics(model, X_test, y_test_captions, num_samples=1000):\n",
        "    predictions = []\n",
        "    references = []\n",
        "\n",
        "    for i in range(min(num_samples, len(X_test))):\n",
        "        pred_caption = test_caption(X_test[i])\n",
        "        predictions.append(pred_caption.split())\n",
        "\n",
        "        ref_tokens = [idx2word.get(token, '') for token in y_test_captions[i]\n",
        "                     if token != 0 and idx2word.get(token, '') not in ['<sos>', '<eos>', 'sos', 'eos']]\n",
        "        references.append([ref_tokens])\n",
        "\n",
        "        if i % 100 == 0:\n",
        "            print(f\"Processed {i}/{num_samples} samples...\")\n",
        "\n",
        "    bleu1 = corpus_bleu(references, predictions, weights=(1, 0, 0, 0))\n",
        "    bleu4 = corpus_bleu(references, predictions, weights=(0.25, 0.25, 0.25, 0.25))\n",
        "\n",
        "    print(f\"BLEU-1: {bleu1:.3f}\")\n",
        "    print(f\"BLEU-4: {bleu4:.3f}\")\n",
        "\n",
        "    return bleu1, bleu4, predictions, references\n",
        "\n",
        "bleu1, bleu4, preds, refs = calculate_metrics(\n",
        "    model,\n",
        "    X_audio_embeddings[-1000:],  # Use last 1000 samples as test\n",
        "    y_caption[-1000:],\n",
        "    num_samples=500\n",
        ")\n"
      ],
      "metadata": {
        "colab": {
          "base_uri": "https://localhost:8080/"
        },
        "id": "eiVJ0z-66ZgY",
        "outputId": "9a6e737e-f919-4ac2-a08b-6e237b92084e"
      },
      "execution_count": 72,
      "outputs": [
        {
          "output_type": "stream",
          "name": "stdout",
          "text": [
            "Requirement already satisfied: pycocoevalcap in /usr/local/lib/python3.12/dist-packages (1.2)\n",
            "Requirement already satisfied: pycocotools>=2.0.2 in /usr/local/lib/python3.12/dist-packages (from pycocoevalcap) (2.0.10)\n",
            "Requirement already satisfied: numpy in /usr/local/lib/python3.12/dist-packages (from pycocotools>=2.0.2->pycocoevalcap) (1.26.4)\n",
            "Processed 0/500 samples...\n",
            "Processed 100/500 samples...\n",
            "Processed 200/500 samples...\n",
            "Processed 300/500 samples...\n",
            "Processed 400/500 samples...\n",
            "BLEU-1: 0.260\n",
            "BLEU-4: 0.043\n"
          ]
        }
      ]
    }
  ],
  "metadata": {
    "colab": {
      "provenance": [],
      "gpuType": "T4"
    },
    "kernelspec": {
      "display_name": "Python 3",
      "name": "python3"
    },
    "language_info": {
      "name": "python"
    },
    "accelerator": "GPU"
  },
  "nbformat": 4,
  "nbformat_minor": 0
}